{
 "cells": [
  {
   "cell_type": "markdown",
   "id": "ca4587f4",
   "metadata": {},
   "source": [
    "The ships *hung in the sky* in much the same way that **bricks don’t.**<sup>1</sup><sub>QUOTE</sub>"
   ]
  },
  {
   "cell_type": "markdown",
   "id": "cc732b98",
   "metadata": {},
   "source": [
    "#hello"
   ]
  },
  {
   "cell_type": "markdown",
   "id": "88a3cd4b",
   "metadata": {},
   "source": [
    "# hello"
   ]
  },
  {
   "cell_type": "markdown",
   "id": "50cab62b",
   "metadata": {},
   "source": [
    "'''python\n",
    "print('hello world')\n",
    "'''"
   ]
  },
  {
   "cell_type": "markdown",
   "id": "b90494b3",
   "metadata": {},
   "source": [
    "```python\n",
    "print('hello world')\n",
    "```"
   ]
  },
  {
   "cell_type": "markdown",
   "id": "bef98b2a",
   "metadata": {},
   "source": [
    "[spewifeiwugbtiwb website](https://sps.nus.edu.sg/sp2273/using-jupyter-need.html)"
   ]
  },
  {
   "cell_type": "markdown",
   "id": "491f1273",
   "metadata": {},
   "source": [
    "![](https://nus.edu.sg/images/default-source/base/logo.png)"
   ]
  },
  {
   "cell_type": "markdown",
   "id": "21f4ffef",
   "metadata": {},
   "source": [
    "| A    |  B   |    C |\n",
    "| --- | :--: | --- |\n",
    "| a1   |  b1  |   c1 |\n",
    "| a2   |  b2  |   c2 |\n",
    "| a3   |  b3  |   c3 |"
   ]
  },
  {
   "cell_type": "markdown",
   "id": "57acb68c",
   "metadata": {},
   "source": [
    "| A    |  B   |    C |\n",
    "| :--- | :--: | ---: |\n",
    "| a1   |  b1  |   c1 |\n",
    "| a2   |  b2  |   c2 |\n",
    "| a3   |  b3  |   c3 |"
   ]
  },
  {
   "cell_type": "markdown",
   "id": "7380ac5d",
   "metadata": {},
   "source": [
    "$$\n",
    "x = \\frac{-b \\pm \\sqrt{b^2-4ac}}{2a}\n",
    "$$"
   ]
  },
  {
   "cell_type": "markdown",
   "id": "1973f1b4",
   "metadata": {},
   "source": [
    "#### Quadratic Equations\n",
    "\n",
    "![](https://upload.wikimedia.org/wikipedia/commons/thumb/f/f8/Polynomialdeg2.svg/600px-Polynomialdeg2.svg.png)\n",
    "(*Image from the [Wikipedia page on Quadratic Equations](https://en.wikipedia.org/wiki/Quadratic_equation)*)\n",
    "\n",
    "#### Introduction\n",
    "\n",
    "The general form of a quadratic equation is:\n",
    "$$\n",
    "ax^2+bx+c=0\n",
    "$$\n",
    "\n",
    "**Solutions** Provided $a\\neq0$, we can use an elementary algebraic method called [completeing the square](https://en.wikipedia.org/wiki/Completing_the_square) to show that a quadratic equation has the following solution:\n",
    "$$\n",
    "x = \\frac{-b \\pm \\sqrt{b^2-4ac}}{2a}\n",
    "$$\n",
    "\n",
    "#### Discriminant\n",
    "\n",
    "The quantity $\\delta=b^2-4ac$ is called the **discriminant** of the equation and decides the nature of its solutions. The table below shows the various possibilities.\n",
    "\n",
    "| Discriminant         |        Roots                           |\n",
    "|         ---          |                 ---                    |\n",
    "| $\\delta=b^2-4ac$=0   | A single solution of $-b/(2a)$         |\n",
    "| $\\delta=b^2-4ac$>0   | Two distinct solutions                 |\n",
    "| $\\delta=b^2-4ac$<0   |  No real solutions; both are complex.  |"
   ]
  },
  {
   "cell_type": "markdown",
   "id": "37a64974",
   "metadata": {},
   "source": [
    "1. What is a **repository**?\n",
    "A repository is a shareable folder containing the project files added and a log of all the changes made to those projects.\n",
    "2. Git keep tracks of **changes** in the files in our repository.\n",
    "3. What is a **commit**?\n",
    "A commit determines which specific changes to a file GitHub tracks.\n",
    "4. What is a **push**?\n",
    "A push uploads the changes recorded in GitHub on your desktop onto the GitHub server.\n",
    "5. What is the difference between **GitHub** and **GitHub Desktop**?\n",
    "GitHub is on the server, while GitHub Desktop is local to the computer used.\n",
    "6. Is there an ‘opposite’ to a **push**?\n",
    "fetch"
   ]
  },
  {
   "cell_type": "code",
   "execution_count": null,
   "id": "f39ab18d",
   "metadata": {},
   "outputs": [],
   "source": []
  }
 ],
 "metadata": {
  "kernelspec": {
   "display_name": "Python 3 (ipykernel)",
   "language": "python",
   "name": "python3"
  },
  "language_info": {
   "codemirror_mode": {
    "name": "ipython",
    "version": 3
   },
   "file_extension": ".py",
   "mimetype": "text/x-python",
   "name": "python",
   "nbconvert_exporter": "python",
   "pygments_lexer": "ipython3",
   "version": "3.10.8"
  }
 },
 "nbformat": 4,
 "nbformat_minor": 5
}
