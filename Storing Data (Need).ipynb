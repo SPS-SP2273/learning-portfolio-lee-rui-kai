{
 "cells": [
  {
   "cell_type": "code",
   "execution_count": 1,
   "id": "e1be2baa",
   "metadata": {},
   "outputs": [],
   "source": [
    "py_super_names = [\"Black Widow\", \"Iron Man\", \"Doctor Strange\"]\n",
    "py_real_names = [\"Natasha Romanoff\", \"Tony Stark\", \"Stephen Strange\"]"
   ]
  },
  {
   "cell_type": "code",
   "execution_count": 2,
   "id": "4dcfe390",
   "metadata": {},
   "outputs": [],
   "source": [
    "np_super_names = np.array([\"Black Widow\", \"Iron Man\", \"Doctor Strange\"])\n",
    "np_real_names = np.array([\"Natasha Romanoff\", \"Tony Stark\", \"Stephen Strange\"])"
   ]
  },
  {
   "cell_type": "code",
   "execution_count": 3,
   "id": "10fb6b91",
   "metadata": {},
   "outputs": [],
   "source": [
    "superhero_info = {\"Natasha Romanoff\": \"Black Widow\",\n",
    "                  \"Tony Stark\": \"Iron Man\",\n",
    "                  \"Stephen Strange\": \"Doctor Strange\"\n",
    "                  }"
   ]
  },
  {
   "cell_type": "code",
   "execution_count": 34,
   "id": "7548122b",
   "metadata": {},
   "outputs": [
    {
     "name": "stdout",
     "output_type": "stream",
     "text": [
      "Natasha Romanoff Black Widow\n"
     ]
    }
   ],
   "source": [
    "print(np_real_names[0],np_super_names[0])"
   ]
  },
  {
   "cell_type": "code",
   "execution_count": 10,
   "id": "f29b725e",
   "metadata": {},
   "outputs": [
    {
     "name": "stdout",
     "output_type": "stream",
     "text": [
      "Black Widow\n"
     ]
    }
   ],
   "source": [
    "print(superhero_info[\"Natasha Romanoff\"])"
   ]
  },
  {
   "cell_type": "code",
   "execution_count": 11,
   "id": "c49c6b64",
   "metadata": {},
   "outputs": [],
   "source": [
    "py_superhero_info = [['Natasha Romanoff', 'Black Widow'],\n",
    "                     ['Tony Stark', 'Iron Man'],\n",
    "                     ['Stephen Strange', 'Doctor Strange']]\n",
    "#2d list"
   ]
  },
  {
   "cell_type": "code",
   "execution_count": 12,
   "id": "499f9527",
   "metadata": {},
   "outputs": [],
   "source": [
    "py_list_2d = [[1, \"A\"], [2, \"B\"], [3, \"C\"], [4, \"D\"],\n",
    "              [5, \"E\"], [6, \"F\"], [7, \"G\"], [8, \"H\"],\n",
    "              [9, \"I\"], [10, \"J\"]]\n",
    "\n",
    "np_array_2d = np.array(py_list_2d)      # Reusing the Python list \n",
    "                                        # to create a NEW\n",
    "                                        # NumPy array"
   ]
  },
  {
   "cell_type": "code",
   "execution_count": 13,
   "id": "9cae40b6",
   "metadata": {},
   "outputs": [
    {
     "data": {
      "text/plain": [
       "10"
      ]
     },
     "execution_count": 13,
     "metadata": {},
     "output_type": "execute_result"
    }
   ],
   "source": [
    "len(py_list_2d)"
   ]
  },
  {
   "cell_type": "code",
   "execution_count": 14,
   "id": "4c2fb28f",
   "metadata": {},
   "outputs": [
    {
     "data": {
      "text/plain": [
       "10"
      ]
     },
     "execution_count": 14,
     "metadata": {},
     "output_type": "execute_result"
    }
   ],
   "source": [
    "len(np_array_2d)"
   ]
  },
  {
   "cell_type": "code",
   "execution_count": 15,
   "id": "9220b5a9",
   "metadata": {},
   "outputs": [
    {
     "data": {
      "text/plain": [
       "(10, 2)"
      ]
     },
     "execution_count": 15,
     "metadata": {},
     "output_type": "execute_result"
    }
   ],
   "source": [
    "np_array_2d.shape"
   ]
  },
  {
   "cell_type": "code",
   "execution_count": 16,
   "id": "bfc5e420",
   "metadata": {},
   "outputs": [
    {
     "ename": "AttributeError",
     "evalue": "'list' object has no attribute 'shape'",
     "output_type": "error",
     "traceback": [
      "\u001b[0;31m---------------------------------------------------------------------------\u001b[0m",
      "\u001b[0;31mAttributeError\u001b[0m                            Traceback (most recent call last)",
      "Cell \u001b[0;32mIn[16], line 1\u001b[0m\n\u001b[0;32m----> 1\u001b[0m \u001b[43mpy_list_2d\u001b[49m\u001b[38;5;241;43m.\u001b[39;49m\u001b[43mshape\u001b[49m\n",
      "\u001b[0;31mAttributeError\u001b[0m: 'list' object has no attribute 'shape'"
     ]
    }
   ],
   "source": [
    "py_list_2d.shape"
   ]
  },
  {
   "cell_type": "code",
   "execution_count": 17,
   "id": "16628156",
   "metadata": {},
   "outputs": [],
   "source": [
    "py_list = [1, 2, 3, 4, 5]\n",
    "np_array = np.array(py_list)         # Reusing the Python list\n",
    "                                     # to create a NEW\n",
    "                                     # NumPy array"
   ]
  },
  {
   "cell_type": "code",
   "execution_count": 18,
   "id": "d9d531c1",
   "metadata": {},
   "outputs": [
    {
     "ename": "TypeError",
     "evalue": "can only concatenate list (not \"int\") to list",
     "output_type": "error",
     "traceback": [
      "\u001b[0;31m---------------------------------------------------------------------------\u001b[0m",
      "\u001b[0;31mTypeError\u001b[0m                                 Traceback (most recent call last)",
      "Cell \u001b[0;32mIn[18], line 1\u001b[0m\n\u001b[0;32m----> 1\u001b[0m \u001b[43mpy_list\u001b[49m\u001b[43m \u001b[49m\u001b[38;5;241;43m+\u001b[39;49m\u001b[43m \u001b[49m\u001b[38;5;241;43m10\u001b[39;49m        \u001b[38;5;66;03m# Won't work!\u001b[39;00m\n",
      "\u001b[0;31mTypeError\u001b[0m: can only concatenate list (not \"int\") to list"
     ]
    }
   ],
   "source": [
    "py_list + 10        # Won't work!"
   ]
  },
  {
   "cell_type": "code",
   "execution_count": 19,
   "id": "c37f279a",
   "metadata": {},
   "outputs": [
    {
     "data": {
      "text/plain": [
       "array([11, 12, 13, 14, 15])"
      ]
     },
     "execution_count": 19,
     "metadata": {},
     "output_type": "execute_result"
    }
   ],
   "source": [
    "np_array+10"
   ]
  },
  {
   "cell_type": "code",
   "execution_count": 20,
   "id": "029b2982",
   "metadata": {},
   "outputs": [],
   "source": [
    "py_list_1 = [1, 2, 3, 4, 5]\n",
    "py_list_2 = [10, 20, 30, 40, 50]\n",
    "\n",
    "np_array_1 = np.array(py_list_1)\n",
    "np_array_2 = np.array(py_list_2)"
   ]
  },
  {
   "cell_type": "code",
   "execution_count": 23,
   "id": "0782daab",
   "metadata": {},
   "outputs": [
    {
     "data": {
      "text/plain": [
       "[1, 2, 3, 4, 5, 1, 2, 3, 4, 5]"
      ]
     },
     "execution_count": 23,
     "metadata": {},
     "output_type": "execute_result"
    }
   ],
   "source": [
    "py_list_1+py_list_2\n",
    "py_list_1*2"
   ]
  },
  {
   "cell_type": "code",
   "execution_count": 24,
   "id": "859fc761",
   "metadata": {},
   "outputs": [
    {
     "data": {
      "text/plain": [
       "array([ 2,  4,  6,  8, 10])"
      ]
     },
     "execution_count": 24,
     "metadata": {},
     "output_type": "execute_result"
    }
   ],
   "source": [
    "np_array_1+np_array_2\n",
    "np_array_1*2"
   ]
  },
  {
   "cell_type": "code",
   "execution_count": 25,
   "id": "7545bec5",
   "metadata": {},
   "outputs": [],
   "source": [
    "py_list = [ 2, 3, 4,5,6]\n",
    "np_array = np.array(py_list)         "
   ]
  },
  {
   "cell_type": "code",
   "execution_count": 26,
   "id": "8c7d3dec",
   "metadata": {},
   "outputs": [
    {
     "ename": "TypeError",
     "evalue": "'>' not supported between instances of 'list' and 'int'",
     "output_type": "error",
     "traceback": [
      "\u001b[0;31m---------------------------------------------------------------------------\u001b[0m",
      "\u001b[0;31mTypeError\u001b[0m                                 Traceback (most recent call last)",
      "Cell \u001b[0;32mIn[26], line 1\u001b[0m\n\u001b[0;32m----> 1\u001b[0m \u001b[43mpy_list\u001b[49m\u001b[38;5;241;43m>\u001b[39;49m\u001b[38;5;241;43m1\u001b[39;49m\n",
      "\u001b[0;31mTypeError\u001b[0m: '>' not supported between instances of 'list' and 'int'"
     ]
    }
   ],
   "source": [
    "py_list>1"
   ]
  },
  {
   "cell_type": "code",
   "execution_count": 27,
   "id": "cea6e4ff",
   "metadata": {},
   "outputs": [
    {
     "data": {
      "text/plain": [
       "array([False,  True, False, False, False])"
      ]
     },
     "execution_count": 27,
     "metadata": {},
     "output_type": "execute_result"
    }
   ],
   "source": [
    "np_array==3"
   ]
  },
  {
   "cell_type": "code",
   "execution_count": 28,
   "id": "08fa40eb",
   "metadata": {},
   "outputs": [
    {
     "data": {
      "text/plain": [
       "array([False, False,  True,  True,  True])"
      ]
     },
     "execution_count": 28,
     "metadata": {},
     "output_type": "execute_result"
    }
   ],
   "source": [
    "np_array>3"
   ]
  },
  {
   "cell_type": "code",
   "execution_count": 30,
   "id": "7f698abe",
   "metadata": {},
   "outputs": [
    {
     "data": {
      "text/plain": [
       "20"
      ]
     },
     "execution_count": 30,
     "metadata": {},
     "output_type": "execute_result"
    }
   ],
   "source": [
    "sum(py_list)"
   ]
  },
  {
   "cell_type": "code",
   "execution_count": 31,
   "id": "06378b59",
   "metadata": {},
   "outputs": [
    {
     "data": {
      "text/plain": [
       "20"
      ]
     },
     "execution_count": 31,
     "metadata": {},
     "output_type": "execute_result"
    }
   ],
   "source": [
    "sum(np_array)"
   ]
  },
  {
   "cell_type": "code",
   "execution_count": 32,
   "id": "f4d51518",
   "metadata": {},
   "outputs": [
    {
     "data": {
      "text/plain": [
       "4.0"
      ]
     },
     "execution_count": 32,
     "metadata": {},
     "output_type": "execute_result"
    }
   ],
   "source": [
    "np_array.mean()"
   ]
  },
  {
   "cell_type": "code",
   "execution_count": 33,
   "id": "1f0b68de",
   "metadata": {},
   "outputs": [],
   "source": [
    "#an operation on a list works on the whole list. In contrast, an operation on an array works on the individual elements of the array."
   ]
  },
  {
   "cell_type": "markdown",
   "id": "6722075a",
   "metadata": {},
   "source": [
    "# Exercise 1\n",
    "1. Two similarities between lists and arrays.\n",
    "\n",
    "Both lists and arrays contain an ordered sequence of multiple elements.\n",
    "\n",
    "If the list and array contain float numbers, the sum of all numbers can be found with the function sum(array/list).\n",
    "\n",
    "2. Two differences between lists and arrays.\n",
    "\n",
    "A list can contain different types of elements, while arrays can only have the same type of elements.\n",
    "\n",
    "Functions on lists deal with all the elements at once, while with arrays, each element is dealt with seperately.\n",
    "\n",
    "3. What is a dictionary?\n",
    "\n",
    "A dictionary relates pairs of elements with each other."
   ]
  },
  {
   "cell_type": "code",
   "execution_count": 37,
   "id": "a0d843a8",
   "metadata": {},
   "outputs": [
    {
     "name": "stdout",
     "output_type": "stream",
     "text": [
      "['a1', 'c3', 'e5', 'g7', 'i9']\n"
     ]
    }
   ],
   "source": [
    "#Exercise 2\n",
    "py_list = [\"a1\", \"b2\", \"c3\", \"d4\", \"e5\", \"f6\", \"g7\", \"h8\", \"i9\", \"j10\"]\n",
    "                    # Prints 'a1'\n",
    "                    # Prints 'c3'\n",
    "                    # Prints 'e5'\n",
    "                    # Prints 'g7'\n",
    "print(py_list[::2])   # Prints 'i9'"
   ]
  },
  {
   "cell_type": "code",
   "execution_count": 45,
   "id": "c5ce629b",
   "metadata": {},
   "outputs": [
    {
     "name": "stdout",
     "output_type": "stream",
     "text": [
      "{'Natasha Romanoff': 'BLACK WIDOW', 'Tony Stark': 'IRON MAN', 'Stephen Strange': 'DOCTOR STRANGE'}\n"
     ]
    }
   ],
   "source": [
    "#Exercise 3\n",
    "superhero_info = {\"Natasha Romanoff\": \"Black Widow\",\n",
    "                  \"Tony Stark\": \"Iron Man\",\n",
    "                  \"Stephen Strange\": \"Doctor Strange\"\n",
    "                  }\n",
    "\n",
    "superhero_info['Natasha Romanoff'] = superhero_info['Natasha Romanoff'].upper() \n",
    "superhero_info['Tony Stark']=superhero_info['Tony Stark'].upper()\n",
    "superhero_info['Stephen Strange']=superhero_info['Stephen Strange'].upper()\n",
    "print(superhero_info)"
   ]
  },
  {
   "cell_type": "code",
   "execution_count": 72,
   "id": "0736a34a",
   "metadata": {},
   "outputs": [
    {
     "data": {
      "text/plain": [
       "12"
      ]
     },
     "execution_count": 72,
     "metadata": {},
     "output_type": "execute_result"
    }
   ],
   "source": [
    "#Exercise 4\n",
    "np.numbers=[45, 60, 1, 30, 96, 1, 96, 57, 16, 1,\n",
    "        99, 62, 86, 43, 42, 60, 59, 1, 1, 35,\n",
    "        83, 47, 34, 28, 68, 23, 22, 92, 1, 79,\n",
    "        1, 29, 94, 72, 46, 47, 1, 74, 32, 20,\n",
    "        8, 37, 35, 1, 89, 29, 86, 19, 43, 61]\n",
    "string_np_numbers=str(np.numbers)\n",
    "string_np_numbers.count('1')"
   ]
  },
  {
   "cell_type": "code",
   "execution_count": null,
   "id": "198a7d26",
   "metadata": {},
   "outputs": [],
   "source": []
  }
 ],
 "metadata": {
  "kernelspec": {
   "display_name": "Python 3 (ipykernel)",
   "language": "python",
   "name": "python3"
  },
  "language_info": {
   "codemirror_mode": {
    "name": "ipython",
    "version": 3
   },
   "file_extension": ".py",
   "mimetype": "text/x-python",
   "name": "python",
   "nbconvert_exporter": "python",
   "pygments_lexer": "ipython3",
   "version": "3.10.8"
  },
  "toc": {
   "base_numbering": 1,
   "nav_menu": {},
   "number_sections": true,
   "sideBar": true,
   "skip_h1_title": false,
   "title_cell": "Table of Contents",
   "title_sidebar": "Contents",
   "toc_cell": false,
   "toc_position": {},
   "toc_section_display": true,
   "toc_window_display": false
  },
  "varInspector": {
   "cols": {
    "lenName": 16,
    "lenType": 16,
    "lenVar": 40
   },
   "kernels_config": {
    "python": {
     "delete_cmd_postfix": "",
     "delete_cmd_prefix": "del ",
     "library": "var_list.py",
     "varRefreshCmd": "print(var_dic_list())"
    },
    "r": {
     "delete_cmd_postfix": ") ",
     "delete_cmd_prefix": "rm(",
     "library": "var_list.r",
     "varRefreshCmd": "cat(var_dic_list()) "
    }
   },
   "types_to_exclude": [
    "module",
    "function",
    "builtin_function_or_method",
    "instance",
    "_Feature"
   ],
   "window_display": false
  }
 },
 "nbformat": 4,
 "nbformat_minor": 5
}
