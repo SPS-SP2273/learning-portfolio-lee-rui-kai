{
 "cells": [
  {
   "cell_type": "markdown",
   "id": "123456",
   "metadata": {},
   "source": [
    "<div style=\"text-align:left;font-size:2em\"><span style=\"font-weight:bolder;font-size:1.25em\">SP2273 | Learning Portfolio</span><br><br><span style=\"font-weight:bold;color:darkred\">Functions (Good)</span></div>"
   ]
  },
  {
   "cell_type": "markdown",
   "id": "e2db6ab4",
   "metadata": {},
   "source": [
    "## 1 Check, balances and contingencies"
   ]
  },
  {
   "cell_type": "markdown",
   "id": "5b36d77e",
   "metadata": {},
   "source": [
    "### 1.1 assert"
   ]
  },
  {
   "cell_type": "code",
   "execution_count": 8,
   "id": "ec90a5c7",
   "metadata": {},
   "outputs": [
    {
     "name": "stdout",
     "output_type": "stream",
     "text": [
      "x is becoming negative\n"
     ]
    },
    {
     "ename": "AssertionError",
     "evalue": "None",
     "output_type": "error",
     "traceback": [
      "\u001b[0;31m---------------------------------------------------------------------------\u001b[0m",
      "\u001b[0;31mAssertionError\u001b[0m                            Traceback (most recent call last)",
      "Cell \u001b[0;32mIn[8], line 2\u001b[0m\n\u001b[1;32m      1\u001b[0m x\u001b[38;5;241m=\u001b[39m\u001b[38;5;241m-\u001b[39m\u001b[38;5;241m1\u001b[39m\n\u001b[0;32m----> 2\u001b[0m \u001b[38;5;28;01massert\u001b[39;00m x \u001b[38;5;241m>\u001b[39m\u001b[38;5;241m=\u001b[39m \u001b[38;5;241m0\u001b[39m, \u001b[38;5;28mprint\u001b[39m(\u001b[38;5;124m'\u001b[39m\u001b[38;5;124mx is becoming negative\u001b[39m\u001b[38;5;124m'\u001b[39m)\n",
      "\u001b[0;31mAssertionError\u001b[0m: None"
     ]
    }
   ],
   "source": [
    "x=-1\n",
    "assert x >= 0, print('x is becoming negative')\n"
   ]
  },
  {
   "cell_type": "markdown",
   "id": "a3847118",
   "metadata": {},
   "source": [
    "### 1.2 try-except"
   ]
  },
  {
   "cell_type": "code",
   "execution_count": 15,
   "id": "0bd39caa",
   "metadata": {},
   "outputs": [
    {
     "name": "stdout",
     "output_type": "stream",
     "text": [
      "Give me a number and I will calculate its square.efvs\n",
      "Oh oh! I cannot square efvs!\n"
     ]
    }
   ],
   "source": [
    "try:\n",
    "    number=input(\"Give me a number and I will calculate its square.\")\n",
    "    square=int(number)**2\n",
    "    print(f'The square of {number} is {square}!')\n",
    "except:\n",
    "    print(f\"Oh oh! I cannot square {number}!\")"
   ]
  },
  {
   "cell_type": "markdown",
   "id": "0e94c0fe",
   "metadata": {},
   "source": [
    "## 2 Some loose ends"
   ]
  },
  {
   "cell_type": "markdown",
   "id": "e5ab9cab",
   "metadata": {},
   "source": [
    "### 2.1 Positional, keyword and default arguments"
   ]
  },
  {
   "cell_type": "code",
   "execution_count": 16,
   "id": "949c39f1",
   "metadata": {},
   "outputs": [
    {
     "data": {
      "text/plain": [
       "121"
      ]
     },
     "execution_count": 16,
     "metadata": {},
     "output_type": "execute_result"
    }
   ],
   "source": [
    "def funny_add(a, b, c=1):\n",
    "    return a + 10*b + 100*c\n",
    "funny_add(1, 2)           # Two positional, 1 default\n",
    "#> 121\n",
    "funny_add(1, 2, 3)        # Three positional\n",
    "#> 321\n",
    "funny_add(a=1, b=2)       # Two keyword, 1 default\n",
    "#> 121\n",
    "funny_add(c=3, b=1, a=2)  # Three keyword\n",
    "#> 312\n",
    "funny_add(1, c=3, b=2)    # One positional, 2 keyword\n",
    "#> 321\n",
    "funny_add(1, b=2)         # One positional, 1 keyword, 1 default\n",
    "#> 121"
   ]
  },
  {
   "cell_type": "markdown",
   "id": "936d929a",
   "metadata": {},
   "source": [
    "### 2.2 Docstrings"
   ]
  },
  {
   "cell_type": "code",
   "execution_count": 17,
   "id": "f00f22ac",
   "metadata": {},
   "outputs": [],
   "source": [
    "def funny_add(a, b, c=1):\n",
    "    '''\n",
    "    haha need help big L\n",
    "    '''\n",
    "    return a + 10*b + 100*c"
   ]
  },
  {
   "cell_type": "code",
   "execution_count": 19,
   "id": "3f7f5732",
   "metadata": {},
   "outputs": [
    {
     "name": "stdout",
     "output_type": "stream",
     "text": [
      "Help on function funny_add in module __main__:\n",
      "\n",
      "funny_add(a, b, c=1)\n",
      "    haha need help big L\n",
      "\n"
     ]
    }
   ],
   "source": [
    "help (funny_add)"
   ]
  },
  {
   "cell_type": "markdown",
   "id": "8d0cec4e",
   "metadata": {},
   "source": [
    "### 2.3 Function are first class citizens"
   ]
  },
  {
   "cell_type": "code",
   "execution_count": 24,
   "id": "597c2dc4",
   "metadata": {},
   "outputs": [
    {
     "data": {
      "text/plain": [
       "-1.0"
      ]
     },
     "execution_count": 24,
     "metadata": {},
     "output_type": "execute_result"
    }
   ],
   "source": [
    "def my_function(angle, trig_function):\n",
    "        return trig_function(angle)\n",
    "\n",
    "# Let's use the function\n",
    "my_function(np.pi/2, np.sin)        \n",
    "#> 1.0\n",
    "my_function(np.pi/2, np.cos)        \n",
    "#> 6.123233995736766e-17\n",
    "my_function(np.pi/2, lambda x: np.cos(2*x))  \n",
    "#> -1.0"
   ]
  },
  {
   "cell_type": "markdown",
   "id": "aebe8811",
   "metadata": {},
   "source": [
    "### 2.4 More unpacking"
   ]
  },
  {
   "cell_type": "code",
   "execution_count": 27,
   "id": "1af1a725",
   "metadata": {},
   "outputs": [
    {
     "name": "stdout",
     "output_type": "stream",
     "text": [
      "[1, 2, 3] 4 5\n"
     ]
    }
   ],
   "source": [
    "\n",
    "*x, y, z = np.array([1, 2, 3, 4, 5])\n",
    "print(x, y, z)\n"
   ]
  },
  {
   "cell_type": "markdown",
   "id": "f213aa62",
   "metadata": {},
   "source": [
    "## Exercise 1 :  A better calculator I"
   ]
  },
  {
   "cell_type": "code",
   "execution_count": 2,
   "id": "5cdaf7a4",
   "metadata": {},
   "outputs": [],
   "source": [
    "x=np.array([36, 34, 44, 76, 27])\n",
    "y=np.array([64, 66, 56, 24, 73])"
   ]
  },
  {
   "cell_type": "code",
   "execution_count": 5,
   "id": "4111743b",
   "metadata": {},
   "outputs": [
    {
     "data": {
      "text/plain": [
       "array([0.5625    , 0.51515152, 0.78571429, 3.16666667, 0.36986301])"
      ]
     },
     "execution_count": 5,
     "metadata": {},
     "output_type": "execute_result"
    }
   ],
   "source": [
    "def divide(x,y):\n",
    "    assert 0 not in y, print('nooooooooo')\n",
    "    return x/y\n",
    "\n",
    "divide(x,y)"
   ]
  },
  {
   "cell_type": "markdown",
   "id": "f7f198b7",
   "metadata": {},
   "source": [
    "## Exercise 2 :  A better calculator II"
   ]
  },
  {
   "cell_type": "code",
   "execution_count": 45,
   "id": "3615197c",
   "metadata": {},
   "outputs": [
    {
     "data": {
      "text/plain": [
       "0.5"
      ]
     },
     "execution_count": 45,
     "metadata": {},
     "output_type": "execute_result"
    }
   ],
   "source": [
    "def divide(x,y):\n",
    "    try:  \n",
    "        return x/y\n",
    "        print(x/y)\n",
    "    except:\n",
    "        print(\"blablablabla\")\n",
    "divide(1,2)"
   ]
  },
  {
   "cell_type": "code",
   "execution_count": null,
   "id": "2d899743",
   "metadata": {},
   "outputs": [],
   "source": []
  }
 ],
 "metadata": {
  "kernelspec": {
   "display_name": "Python 3 (ipykernel)",
   "language": "python",
   "name": "python3"
  },
  "language_info": {
   "codemirror_mode": {
    "name": "ipython",
    "version": 3
   },
   "file_extension": ".py",
   "mimetype": "text/x-python",
   "name": "python",
   "nbconvert_exporter": "python",
   "pygments_lexer": "ipython3",
   "version": "3.10.8"
  },
  "toc": {
   "base_numbering": 1,
   "nav_menu": {},
   "number_sections": true,
   "sideBar": true,
   "skip_h1_title": false,
   "title_cell": "Table of Contents",
   "title_sidebar": "Contents",
   "toc_cell": false,
   "toc_position": {},
   "toc_section_display": true,
   "toc_window_display": false
  },
  "varInspector": {
   "cols": {
    "lenName": 16,
    "lenType": 16,
    "lenVar": 40
   },
   "kernels_config": {
    "python": {
     "delete_cmd_postfix": "",
     "delete_cmd_prefix": "del ",
     "library": "var_list.py",
     "varRefreshCmd": "print(var_dic_list())"
    },
    "r": {
     "delete_cmd_postfix": ") ",
     "delete_cmd_prefix": "rm(",
     "library": "var_list.r",
     "varRefreshCmd": "cat(var_dic_list()) "
    }
   },
   "types_to_exclude": [
    "module",
    "function",
    "builtin_function_or_method",
    "instance",
    "_Feature"
   ],
   "window_display": false
  },
  "vscode": {
   "interpreter": {
    "hash": "31f2aee4e71d21fbe5cf8b01ff0e069b9275f58929596ceb00d14d90e3e16cd6"
   }
  }
 },
 "nbformat": 4,
 "nbformat_minor": 5
}
