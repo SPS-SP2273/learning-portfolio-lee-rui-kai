{
 "cells": [
  {
   "cell_type": "markdown",
   "id": "a30629b8",
   "metadata": {},
   "source": [
    "**Problem 1.1**"
   ]
  },
  {
   "cell_type": "code",
   "execution_count": 3,
   "id": "c1ec23ca",
   "metadata": {},
   "outputs": [
    {
     "data": {
      "text/plain": [
       "0.7835281763821067"
      ]
     },
     "execution_count": 3,
     "metadata": {},
     "output_type": "execute_result"
    }
   ],
   "source": [
    "def V(z): \n",
    "    a=20*(1-(z/np.sqrt(1.25**2+z**2)))\n",
    "    return a\n",
    "V(4+1/3)"
   ]
  },
  {
   "cell_type": "markdown",
   "id": "9f011cc8",
   "metadata": {},
   "source": [
    "**Problem 1.2**"
   ]
  },
  {
   "cell_type": "code",
   "execution_count": 12,
   "id": "b0e4f35e",
   "metadata": {},
   "outputs": [
    {
     "data": {
      "text/plain": [
       "((-1+1.4142135623730951j), (-1-1.4142135623730951j))"
      ]
     },
     "execution_count": 12,
     "metadata": {},
     "output_type": "execute_result"
    }
   ],
   "source": [
    "def q(a,b,c):\n",
    "    if b**2-4*a*c>=0:\n",
    "        plus=(-b+np.sqrt(b**2-4*a*c))/(2*a)\n",
    "        minus=(-b-np.sqrt(b**2-4*a*c))/(2*a)\n",
    "        return plus, minus\n",
    "    else:\n",
    "        creal=-b/(2*a)\n",
    "        cim=np.sqrt(-(b**2-4*a*c))/(2*a)\n",
    "        cplus=complex(creal,cim)\n",
    "        cminus=complex(creal,-cim)\n",
    "        return cplus, cminus\n",
    "q(1,2,3)"
   ]
  },
  {
   "cell_type": "markdown",
   "id": "e183718b",
   "metadata": {},
   "source": [
    "**Problem 1.3**"
   ]
  },
  {
   "cell_type": "code",
   "execution_count": 54,
   "id": "c0830a05",
   "metadata": {},
   "outputs": [
    {
     "data": {
      "text/plain": [
       "3.1415926022400824"
      ]
     },
     "execution_count": 54,
     "metadata": {},
     "output_type": "execute_result"
    }
   ],
   "source": [
    "def peri(n):\n",
    "    perimeter=n*np.sqrt(2*0.5**2-2*0.5*0.5*np.cos(2*np.pi/n))\n",
    "    return perimeter\n",
    "peri(10000)"
   ]
  },
  {
   "cell_type": "code",
   "execution_count": null,
   "id": "89c53d48",
   "metadata": {},
   "outputs": [],
   "source": [
    "from tabulate import tabulate as tb\n",
    "from prettytable import PrettyTable as ptb"
   ]
  },
  {
   "cell_type": "code",
   "execution_count": 171,
   "id": "a75efa6a",
   "metadata": {},
   "outputs": [
    {
     "name": "stdout",
     "output_type": "stream",
     "text": [
      "['perimeter', 2.0, 2.598076211353316, 3.090169943749474, 3.141075907812832, 3.1415874858807182, 3.1415926022400824]\n",
      "╒═══════════╤═══╤═════════╤══════════╤═══════════╤════════════╤═════════════╕\n",
      "│ n         │ 2 │ 3       │ 10       │ 100       │ 1000       │ 10000       │\n",
      "├───────────┼───┼─────────┼──────────┼───────────┼────────────┼─────────────┤\n",
      "│ perimeter │ 2 │ 2.59808 │  3.09017 │   3.14108 │    3.14159 │     3.14159 │\n",
      "╘═══════════╧═══╧═════════╧══════════╧═══════════╧════════════╧═════════════╛\n"
     ]
    }
   ],
   "source": [
    "n=[2,3,10,100,1000,10000]\n",
    "m=['n',2,3,10,100,1000,10000]\n",
    "peri2=['perimeter']\n",
    "for x in n:\n",
    "    peri2.append(peri(x))\n",
    "print(peri2)\n",
    "data1=[m,peri2]\n",
    "print(tb(data1, tablefmt='fancy_grid'))"
   ]
  },
  {
   "cell_type": "markdown",
   "id": "b7baf734",
   "metadata": {},
   "source": [
    "**Problem 1.4**"
   ]
  },
  {
   "cell_type": "code",
   "execution_count": 148,
   "id": "46fbd482",
   "metadata": {},
   "outputs": [],
   "source": [
    "h=[a*0.25 for a in range(40,-1,-1)]"
   ]
  },
  {
   "cell_type": "code",
   "execution_count": 149,
   "id": "05ea38b2",
   "metadata": {
    "scrolled": true
   },
   "outputs": [],
   "source": [
    "t=[np.sqrt((10-x)/(0.5*9.8)) for x in h]"
   ]
  },
  {
   "cell_type": "code",
   "execution_count": 150,
   "id": "730bfc3c",
   "metadata": {},
   "outputs": [],
   "source": [
    "data=[['h','t']]\n",
    "for a in range(0,41):\n",
    "    data.append([h[a],t[a]])"
   ]
  },
  {
   "cell_type": "code",
   "execution_count": 152,
   "id": "bb505b86",
   "metadata": {},
   "outputs": [
    {
     "name": "stdout",
     "output_type": "stream",
     "text": [
      "╒═══════╤══════════╕\n",
      "│     h │        t │\n",
      "╞═══════╪══════════╡\n",
      "│ 10    │ 0        │\n",
      "├───────┼──────────┤\n",
      "│  9.75 │ 0.225877 │\n",
      "├───────┼──────────┤\n",
      "│  9.5  │ 0.319438 │\n",
      "├───────┼──────────┤\n",
      "│  9.25 │ 0.39123  │\n",
      "├───────┼──────────┤\n",
      "│  9    │ 0.451754 │\n",
      "├───────┼──────────┤\n",
      "│  8.75 │ 0.505076 │\n",
      "├───────┼──────────┤\n",
      "│  8.5  │ 0.553283 │\n",
      "├───────┼──────────┤\n",
      "│  8.25 │ 0.597614 │\n",
      "├───────┼──────────┤\n",
      "│  8    │ 0.638877 │\n",
      "├───────┼──────────┤\n",
      "│  7.75 │ 0.677631 │\n",
      "├───────┼──────────┤\n",
      "│  7.5  │ 0.714286 │\n",
      "├───────┼──────────┤\n",
      "│  7.25 │ 0.749149 │\n",
      "├───────┼──────────┤\n",
      "│  7    │ 0.782461 │\n",
      "├───────┼──────────┤\n",
      "│  6.75 │ 0.814411 │\n",
      "├───────┼──────────┤\n",
      "│  6.5  │ 0.845154 │\n",
      "├───────┼──────────┤\n",
      "│  6.25 │ 0.874818 │\n",
      "├───────┼──────────┤\n",
      "│  6    │ 0.903508 │\n",
      "├───────┼──────────┤\n",
      "│  5.75 │ 0.931315 │\n",
      "├───────┼──────────┤\n",
      "│  5.5  │ 0.958315 │\n",
      "├───────┼──────────┤\n",
      "│  5.25 │ 0.984575 │\n",
      "├───────┼──────────┤\n",
      "│  5    │ 1.01015  │\n",
      "├───────┼──────────┤\n",
      "│  4.75 │ 1.0351   │\n",
      "├───────┼──────────┤\n",
      "│  4.5  │ 1.05946  │\n",
      "├───────┼──────────┤\n",
      "│  4.25 │ 1.08327  │\n",
      "├───────┼──────────┤\n",
      "│  4    │ 1.10657  │\n",
      "├───────┼──────────┤\n",
      "│  3.75 │ 1.12938  │\n",
      "├───────┼──────────┤\n",
      "│  3.5  │ 1.15175  │\n",
      "├───────┼──────────┤\n",
      "│  3.25 │ 1.17369  │\n",
      "├───────┼──────────┤\n",
      "│  3    │ 1.19523  │\n",
      "├───────┼──────────┤\n",
      "│  2.75 │ 1.21638  │\n",
      "├───────┼──────────┤\n",
      "│  2.5  │ 1.23718  │\n",
      "├───────┼──────────┤\n",
      "│  2.25 │ 1.25763  │\n",
      "├───────┼──────────┤\n",
      "│  2    │ 1.27775  │\n",
      "├───────┼──────────┤\n",
      "│  1.75 │ 1.29756  │\n",
      "├───────┼──────────┤\n",
      "│  1.5  │ 1.31708  │\n",
      "├───────┼──────────┤\n",
      "│  1.25 │ 1.33631  │\n",
      "├───────┼──────────┤\n",
      "│  1    │ 1.35526  │\n",
      "├───────┼──────────┤\n",
      "│  0.75 │ 1.37396  │\n",
      "├───────┼──────────┤\n",
      "│  0.5  │ 1.3924   │\n",
      "├───────┼──────────┤\n",
      "│  0.25 │ 1.4106   │\n",
      "├───────┼──────────┤\n",
      "│  0    │ 1.42857  │\n",
      "╘═══════╧══════════╛\n"
     ]
    }
   ],
   "source": [
    "print(tb(data, headers='firstrow', tablefmt='fancy_grid'))"
   ]
  },
  {
   "cell_type": "markdown",
   "id": "a80d7075",
   "metadata": {},
   "source": [
    "**Problem 1.5**"
   ]
  },
  {
   "cell_type": "code",
   "execution_count": 182,
   "id": "a2a78d6e",
   "metadata": {},
   "outputs": [
    {
     "data": {
      "text/plain": [
       "array([[1, 1, 1, 1, 1, 1, 1, 1, 1, 1, 1, 1, 1, 1, 1, 1],\n",
       "       [1, 0, 0, 0, 0, 0, 0, 0, 0, 0, 0, 0, 0, 0, 0, 1],\n",
       "       [1, 0, 0, 0, 0, 0, 0, 0, 0, 0, 0, 0, 0, 0, 0, 1],\n",
       "       [1, 0, 0, 0, 0, 0, 0, 0, 0, 0, 0, 0, 0, 0, 0, 1],\n",
       "       [1, 0, 0, 0, 0, 0, 0, 0, 0, 0, 0, 0, 0, 0, 0, 1],\n",
       "       [1, 0, 0, 0, 0, 0, 0, 0, 0, 0, 0, 0, 0, 0, 0, 1],\n",
       "       [1, 0, 0, 0, 0, 0, 0, 0, 0, 0, 0, 0, 0, 0, 0, 1],\n",
       "       [1, 0, 0, 0, 0, 0, 0, 0, 0, 0, 0, 0, 0, 0, 0, 1],\n",
       "       [1, 0, 0, 0, 0, 0, 0, 0, 0, 0, 0, 0, 0, 0, 0, 1],\n",
       "       [1, 0, 0, 0, 0, 0, 0, 0, 0, 0, 0, 0, 0, 0, 0, 1],\n",
       "       [1, 0, 0, 0, 0, 0, 0, 0, 0, 0, 0, 0, 0, 0, 0, 1],\n",
       "       [1, 0, 0, 0, 0, 0, 0, 0, 0, 0, 0, 0, 0, 0, 0, 1],\n",
       "       [1, 0, 0, 0, 0, 0, 0, 0, 0, 0, 0, 0, 0, 0, 0, 1],\n",
       "       [1, 0, 0, 0, 0, 0, 0, 0, 0, 0, 0, 0, 0, 0, 0, 1],\n",
       "       [1, 0, 0, 0, 0, 0, 0, 0, 0, 0, 0, 0, 0, 0, 0, 1],\n",
       "       [1, 1, 1, 1, 1, 1, 1, 1, 1, 1, 1, 1, 1, 1, 1, 1]])"
      ]
     },
     "execution_count": 182,
     "metadata": {},
     "output_type": "execute_result"
    }
   ],
   "source": [
    "row1=[]\n",
    "for x in range(16):\n",
    "    row1.append(1)\n",
    "row2=[1]\n",
    "for x in range(14):\n",
    "    row2.append(0)\n",
    "row2.append(1)\n",
    "row2\n",
    "array1=[row1]\n",
    "for x in range(14):\n",
    "    array1.append(row2)\n",
    "array1.append(row1)\n",
    "np.array(array1)"
   ]
  },
  {
   "cell_type": "code",
   "execution_count": 184,
   "id": "c9cba0a6",
   "metadata": {},
   "outputs": [
    {
     "data": {
      "text/plain": [
       "16"
      ]
     },
     "execution_count": 184,
     "metadata": {},
     "output_type": "execute_result"
    }
   ],
   "source": [
    "len(np.array(array1))"
   ]
  },
  {
   "cell_type": "code",
   "execution_count": 183,
   "id": "d19f8654",
   "metadata": {},
   "outputs": [
    {
     "data": {
      "text/plain": [
       "(16, 16)"
      ]
     },
     "execution_count": 183,
     "metadata": {},
     "output_type": "execute_result"
    }
   ],
   "source": [
    "np.array(array1).shape"
   ]
  },
  {
   "cell_type": "code",
   "execution_count": 186,
   "id": "415eeb1e",
   "metadata": {},
   "outputs": [
    {
     "data": {
      "text/plain": [
       "0.234375"
      ]
     },
     "execution_count": 186,
     "metadata": {},
     "output_type": "execute_result"
    }
   ],
   "source": [
    "np.mean(np.array(array1))"
   ]
  },
  {
   "cell_type": "code",
   "execution_count": 188,
   "id": "c4ceec26",
   "metadata": {},
   "outputs": [
    {
     "data": {
      "text/plain": [
       "0.4236075534914362"
      ]
     },
     "execution_count": 188,
     "metadata": {},
     "output_type": "execute_result"
    }
   ],
   "source": [
    "np.std(np.array(array1))"
   ]
  },
  {
   "cell_type": "code",
   "execution_count": 199,
   "id": "d5d798f3",
   "metadata": {},
   "outputs": [
    {
     "data": {
      "text/plain": [
       "[[0, 1, 0, 1, 0, 1, 0, 1, 0, 1, 0, 1, 0, 1, 0, 1],\n",
       " [1, 0, 1, 0, 1, 0, 1, 0, 1, 0, 1, 0, 1, 0, 1, 0],\n",
       " [0, 1, 0, 1, 0, 1, 0, 1, 0, 1, 0, 1, 0, 1, 0, 1],\n",
       " [1, 0, 1, 0, 1, 0, 1, 0, 1, 0, 1, 0, 1, 0, 1, 0],\n",
       " [0, 1, 0, 1, 0, 1, 0, 1, 0, 1, 0, 1, 0, 1, 0, 1],\n",
       " [1, 0, 1, 0, 1, 0, 1, 0, 1, 0, 1, 0, 1, 0, 1, 0],\n",
       " [0, 1, 0, 1, 0, 1, 0, 1, 0, 1, 0, 1, 0, 1, 0, 1],\n",
       " [1, 0, 1, 0, 1, 0, 1, 0, 1, 0, 1, 0, 1, 0, 1, 0],\n",
       " [0, 1, 0, 1, 0, 1, 0, 1, 0, 1, 0, 1, 0, 1, 0, 1],\n",
       " [1, 0, 1, 0, 1, 0, 1, 0, 1, 0, 1, 0, 1, 0, 1, 0],\n",
       " [0, 1, 0, 1, 0, 1, 0, 1, 0, 1, 0, 1, 0, 1, 0, 1],\n",
       " [1, 0, 1, 0, 1, 0, 1, 0, 1, 0, 1, 0, 1, 0, 1, 0],\n",
       " [0, 1, 0, 1, 0, 1, 0, 1, 0, 1, 0, 1, 0, 1, 0, 1],\n",
       " [1, 0, 1, 0, 1, 0, 1, 0, 1, 0, 1, 0, 1, 0, 1, 0],\n",
       " [0, 1, 0, 1, 0, 1, 0, 1, 0, 1, 0, 1, 0, 1, 0, 1],\n",
       " [1, 0, 1, 0, 1, 0, 1, 0, 1, 0, 1, 0, 1, 0, 1, 0]]"
      ]
     },
     "execution_count": 199,
     "metadata": {},
     "output_type": "execute_result"
    }
   ],
   "source": [
    "row1=[]\n",
    "for x in range(16):\n",
    "    if x%2:\n",
    "        row1.append(0)\n",
    "    else:\n",
    "        row1.append(1)\n",
    "row2=[]\n",
    "for x in range(16):\n",
    "    if x%2:\n",
    "        row2.append(1)\n",
    "    else:\n",
    "        row2.append(0)\n",
    "array2=[]\n",
    "for x in range(16):\n",
    "    if x%2:\n",
    "        array2.append(row1)\n",
    "    else:\n",
    "        array2.append(row2)\n",
    "array2"
   ]
  },
  {
   "cell_type": "code",
   "execution_count": 200,
   "id": "6eb65097",
   "metadata": {},
   "outputs": [
    {
     "data": {
      "text/plain": [
       "16"
      ]
     },
     "execution_count": 200,
     "metadata": {},
     "output_type": "execute_result"
    }
   ],
   "source": [
    "len(np.array(array2))"
   ]
  },
  {
   "cell_type": "code",
   "execution_count": 201,
   "id": "c65c91ca",
   "metadata": {},
   "outputs": [
    {
     "data": {
      "text/plain": [
       "(16, 16)"
      ]
     },
     "execution_count": 201,
     "metadata": {},
     "output_type": "execute_result"
    }
   ],
   "source": [
    "np.array(array2).shape"
   ]
  },
  {
   "cell_type": "code",
   "execution_count": 202,
   "id": "30a72ebb",
   "metadata": {},
   "outputs": [
    {
     "data": {
      "text/plain": [
       "0.5"
      ]
     },
     "execution_count": 202,
     "metadata": {},
     "output_type": "execute_result"
    }
   ],
   "source": [
    "np.mean(np.array(array2))"
   ]
  },
  {
   "cell_type": "code",
   "execution_count": 203,
   "id": "4c05a73b",
   "metadata": {},
   "outputs": [
    {
     "data": {
      "text/plain": [
       "0.5"
      ]
     },
     "execution_count": 203,
     "metadata": {},
     "output_type": "execute_result"
    }
   ],
   "source": [
    "np.std(np.array(array2))"
   ]
  },
  {
   "cell_type": "code",
   "execution_count": 206,
   "id": "42a5c77c",
   "metadata": {},
   "outputs": [
    {
     "data": {
      "text/plain": [
       "[-1,\n",
       " 6,\n",
       " -11,\n",
       " -16,\n",
       " 21,\n",
       " -26,\n",
       " -31,\n",
       " 36,\n",
       " -41,\n",
       " -46,\n",
       " 51,\n",
       " -56,\n",
       " -61,\n",
       " 66,\n",
       " -71,\n",
       " -76,\n",
       " 81,\n",
       " -86,\n",
       " -91,\n",
       " 96]"
      ]
     },
     "execution_count": 206,
     "metadata": {},
     "output_type": "execute_result"
    }
   ],
   "source": [
    "array3=[]\n",
    "for x in np.arange(1, 100, 5):\n",
    "    if x%3!=0:\n",
    "        array3.append(-x)\n",
    "    else:\n",
    "        array3.append(x)\n",
    "array3"
   ]
  },
  {
   "cell_type": "code",
   "execution_count": 209,
   "id": "ad3fbe27",
   "metadata": {},
   "outputs": [
    {
     "data": {
      "text/plain": [
       "20"
      ]
     },
     "execution_count": 209,
     "metadata": {},
     "output_type": "execute_result"
    }
   ],
   "source": [
    "len(np.array(array3))"
   ]
  },
  {
   "cell_type": "code",
   "execution_count": 210,
   "id": "662b471f",
   "metadata": {},
   "outputs": [
    {
     "data": {
      "text/plain": [
       "(20,)"
      ]
     },
     "execution_count": 210,
     "metadata": {},
     "output_type": "execute_result"
    }
   ],
   "source": [
    "np.array(array3).shape"
   ]
  },
  {
   "cell_type": "code",
   "execution_count": 212,
   "id": "be57f17e",
   "metadata": {},
   "outputs": [
    {
     "data": {
      "text/plain": [
       "-12.8"
      ]
     },
     "execution_count": 212,
     "metadata": {},
     "output_type": "execute_result"
    }
   ],
   "source": [
    "np.mean(np.array(array3))"
   ]
  },
  {
   "cell_type": "code",
   "execution_count": 213,
   "id": "0c26e14d",
   "metadata": {},
   "outputs": [
    {
     "data": {
      "text/plain": [
       "54.95143310233137"
      ]
     },
     "execution_count": 213,
     "metadata": {},
     "output_type": "execute_result"
    }
   ],
   "source": [
    "np.std(np.array(array3))"
   ]
  },
  {
   "cell_type": "markdown",
   "id": "bc5e18ed",
   "metadata": {},
   "source": [
    "**Problem 2.1**"
   ]
  },
  {
   "cell_type": "code",
   "execution_count": 214,
   "id": "f9083b6c",
   "metadata": {},
   "outputs": [],
   "source": [
    "A = np.arange(1, 13).reshape(3, 4)"
   ]
  },
  {
   "cell_type": "code",
   "execution_count": 215,
   "id": "43c4db24",
   "metadata": {},
   "outputs": [
    {
     "data": {
      "text/plain": [
       "array([[ 1,  2,  3,  4],\n",
       "       [ 5,  6,  7,  8],\n",
       "       [ 9, 10, 11, 12]])"
      ]
     },
     "execution_count": 215,
     "metadata": {},
     "output_type": "execute_result"
    }
   ],
   "source": [
    "A"
   ]
  },
  {
   "cell_type": "code",
   "execution_count": 246,
   "id": "53802a5b",
   "metadata": {
    "scrolled": true
   },
   "outputs": [
    {
     "name": "stdout",
     "output_type": "stream",
     "text": [
      "[5 6 7 8]\n"
     ]
    }
   ],
   "source": [
    "print(A[1])"
   ]
  },
  {
   "cell_type": "code",
   "execution_count": 259,
   "id": "511a2c48",
   "metadata": {},
   "outputs": [
    {
     "name": "stdout",
     "output_type": "stream",
     "text": [
      "[[1 2 3 4]\n",
      " [5 6 7 8]]\n"
     ]
    }
   ],
   "source": [
    "print(A[:2])"
   ]
  },
  {
   "cell_type": "code",
   "execution_count": 250,
   "id": "824ea787",
   "metadata": {},
   "outputs": [
    {
     "name": "stdout",
     "output_type": "stream",
     "text": [
      "[[1 2 3 4]\n",
      " [5 6 7 8]]\n"
     ]
    }
   ],
   "source": [
    "print(A[0:2])"
   ]
  },
  {
   "cell_type": "code",
   "execution_count": 254,
   "id": "a1e142d7",
   "metadata": {},
   "outputs": [
    {
     "name": "stdout",
     "output_type": "stream",
     "text": [
      "[[ 2  3  4]\n",
      " [ 6  7  8]\n",
      " [10 11 12]]\n"
     ]
    }
   ],
   "source": [
    "print(A[:,1:4])"
   ]
  },
  {
   "cell_type": "code",
   "execution_count": 256,
   "id": "6485a75d",
   "metadata": {},
   "outputs": [
    {
     "name": "stdout",
     "output_type": "stream",
     "text": [
      "[[2 3 4]\n",
      " [6 7 8]]\n"
     ]
    }
   ],
   "source": [
    "print(A[0:2,1:4])"
   ]
  },
  {
   "cell_type": "code",
   "execution_count": 257,
   "id": "d4e50bd5",
   "metadata": {},
   "outputs": [
    {
     "name": "stdout",
     "output_type": "stream",
     "text": [
      "[[2 3]\n",
      " [6 7]]\n"
     ]
    }
   ],
   "source": [
    "print(A[0:2,1:3])"
   ]
  },
  {
   "cell_type": "code",
   "execution_count": 261,
   "id": "ae87061b",
   "metadata": {},
   "outputs": [
    {
     "name": "stdout",
     "output_type": "stream",
     "text": [
      "[1 2 3 4] [ 9 10 11 12]\n"
     ]
    }
   ],
   "source": [
    "print(A[0],A[2])"
   ]
  },
  {
   "cell_type": "code",
   "execution_count": 262,
   "id": "e57fe301",
   "metadata": {},
   "outputs": [
    {
     "name": "stdout",
     "output_type": "stream",
     "text": [
      "[1 2] [ 9 10]\n"
     ]
    }
   ],
   "source": [
    "print(A[0,0:2],A[2,0:2])"
   ]
  },
  {
   "cell_type": "code",
   "execution_count": 264,
   "id": "3f576086",
   "metadata": {},
   "outputs": [
    {
     "name": "stdout",
     "output_type": "stream",
     "text": [
      "1 3 9 11\n"
     ]
    }
   ],
   "source": [
    "print(A[0,0],A[0,2],A[2,0],A[2,2])"
   ]
  },
  {
   "cell_type": "markdown",
   "id": "c8ea5eb5",
   "metadata": {},
   "source": [
    "**Problem 2.2**"
   ]
  },
  {
   "cell_type": "code",
   "execution_count": 271,
   "id": "e1e0d216",
   "metadata": {},
   "outputs": [
    {
     "data": {
      "image/png": "[encoded data removed]",
      "text/plain": [
       "<Figure size 640x480 with 1 Axes>"
      ]
     },
     "metadata": {},
     "output_type": "display_data"
    }
   ],
   "source": [
    "from matplotlib import pyplot as plt\n",
    "x = np.linspace(0, 6, 100)\n",
    "x2 = x**2\n",
    "x3 = x**3\n",
    "\n",
    "plt.plot(x, x2, color='red', label='quadratic')\n",
    "plt.plot(x, x3, color='blue', linestyle='dashed', label='cubic')\n",
    "plt.legend(loc='upper left')\n",
    "plt.xlabel('x')\n",
    "plt.ylabel('y')\n",
    "plt.show()"
   ]
  },
  {
   "cell_type": "markdown",
   "id": "31f5d81d",
   "metadata": {},
   "source": [
    "**Problem 2.3**"
   ]
  },
  {
   "cell_type": "code",
   "execution_count": 274,
   "id": "323ddb66",
   "metadata": {},
   "outputs": [
    {
     "data": {
      "text/plain": [
       "[1,\n",
       " 2,\n",
       " 3,\n",
       " 4,\n",
       " 5,\n",
       " 6,\n",
       " 7,\n",
       " 8,\n",
       " 9,\n",
       " 10,\n",
       " 11,\n",
       " 12,\n",
       " 13,\n",
       " 14,\n",
       " 15,\n",
       " 16,\n",
       " 17,\n",
       " 18,\n",
       " 19,\n",
       " 20,\n",
       " 21,\n",
       " 22,\n",
       " 23,\n",
       " 24,\n",
       " 25,\n",
       " 26,\n",
       " 27,\n",
       " 28,\n",
       " 29,\n",
       " 30,\n",
       " 31,\n",
       " 32,\n",
       " 33,\n",
       " 34,\n",
       " 35,\n",
       " 36,\n",
       " 37,\n",
       " 38,\n",
       " 39,\n",
       " 40,\n",
       " 41,\n",
       " 42,\n",
       " 43,\n",
       " 44,\n",
       " 45,\n",
       " 46,\n",
       " 47,\n",
       " 48,\n",
       " 49,\n",
       " 50,\n",
       " 51,\n",
       " 52,\n",
       " 53,\n",
       " 54,\n",
       " 55,\n",
       " 56,\n",
       " 57,\n",
       " 58,\n",
       " 59,\n",
       " 60]"
      ]
     },
     "execution_count": 274,
     "metadata": {},
     "output_type": "execute_result"
    }
   ],
   "source": [
    "[x for x in range(1,61)]"
   ]
  },
  {
   "cell_type": "code",
   "execution_count": 275,
   "id": "5ec5bf3d",
   "metadata": {},
   "outputs": [
    {
     "data": {
      "text/plain": [
       "[1,\n",
       " 4,\n",
       " 9,\n",
       " 16,\n",
       " 25,\n",
       " 36,\n",
       " 49,\n",
       " 64,\n",
       " 81,\n",
       " 100,\n",
       " 121,\n",
       " 144,\n",
       " 169,\n",
       " 196,\n",
       " 225,\n",
       " 256,\n",
       " 289,\n",
       " 324,\n",
       " 361,\n",
       " 400,\n",
       " 441,\n",
       " 484,\n",
       " 529,\n",
       " 576,\n",
       " 625,\n",
       " 676,\n",
       " 729,\n",
       " 784,\n",
       " 841,\n",
       " 900,\n",
       " 961,\n",
       " 1024,\n",
       " 1089,\n",
       " 1156,\n",
       " 1225,\n",
       " 1296,\n",
       " 1369,\n",
       " 1444,\n",
       " 1521,\n",
       " 1600,\n",
       " 1681,\n",
       " 1764,\n",
       " 1849,\n",
       " 1936,\n",
       " 2025,\n",
       " 2116,\n",
       " 2209,\n",
       " 2304,\n",
       " 2401,\n",
       " 2500,\n",
       " 2601,\n",
       " 2704,\n",
       " 2809,\n",
       " 2916,\n",
       " 3025,\n",
       " 3136,\n",
       " 3249,\n",
       " 3364,\n",
       " 3481,\n",
       " 3600]"
      ]
     },
     "execution_count": 275,
     "metadata": {},
     "output_type": "execute_result"
    }
   ],
   "source": [
    "[x**2 for x in range(1,61)]"
   ]
  },
  {
   "cell_type": "code",
   "execution_count": 279,
   "id": "0d97dbbd",
   "metadata": {},
   "outputs": [
    {
     "ename": "SyntaxError",
     "evalue": "invalid syntax (2217143234.py, line 1)",
     "output_type": "error",
     "traceback": [
      "\u001b[0;36m  Cell \u001b[0;32mIn[279], line 1\u001b[0;36m\u001b[0m\n\u001b[0;31m    [x for x in range(1,61) if x%3!=0, -x for x in range(1,61) if x%3==0]\u001b[0m\n\u001b[0m                                     ^\u001b[0m\n\u001b[0;31mSyntaxError\u001b[0m\u001b[0;31m:\u001b[0m invalid syntax\n"
     ]
    }
   ],
   "source": [
    "[x for x in range(1,61) if x%3!=0]"
   ]
  },
  {
   "cell_type": "code",
   "execution_count": null,
   "id": "f4129878",
   "metadata": {},
   "outputs": [],
   "source": []
  }
 ],
 "metadata": {
  "kernelspec": {
   "display_name": "Python 3 (ipykernel)",
   "language": "python",
   "name": "python3"
  },
  "language_info": {
   "codemirror_mode": {
    "name": "ipython",
    "version": 3
   },
   "file_extension": ".py",
   "mimetype": "text/x-python",
   "name": "python",
   "nbconvert_exporter": "python",
   "pygments_lexer": "ipython3",
   "version": "3.10.8"
  },
  "toc": {
   "base_numbering": 1,
   "nav_menu": {},
   "number_sections": true,
   "sideBar": true,
   "skip_h1_title": false,
   "title_cell": "Table of Contents",
   "title_sidebar": "Contents",
   "toc_cell": false,
   "toc_position": {},
   "toc_section_display": true,
   "toc_window_display": false
  },
  "varInspector": {
   "cols": {
    "lenName": 16,
    "lenType": 16,
    "lenVar": 40
   },
   "kernels_config": {
    "python": {
     "delete_cmd_postfix": "",
     "delete_cmd_prefix": "del ",
     "library": "var_list.py",
     "varRefreshCmd": "print(var_dic_list())"
    },
    "r": {
     "delete_cmd_postfix": ") ",
     "delete_cmd_prefix": "rm(",
     "library": "var_list.r",
     "varRefreshCmd": "cat(var_dic_list()) "
    }
   },
   "types_to_exclude": [
    "module",
    "function",
    "builtin_function_or_method",
    "instance",
    "_Feature"
   ],
   "window_display": false
  }
 },
 "nbformat": 4,
 "nbformat_minor": 5
}
