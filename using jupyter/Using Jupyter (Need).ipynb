{
 "cells": [
  {
   "cell_type": "markdown",
   "id": "d9c948fa",
   "metadata": {},
   "source": [
    "The ships *hung in the sky* in much the same way that **bricks don’t.**<sup>1</sup><sub>QUOTE</sub>"
   ]
  },
  {
   "cell_type": "markdown",
   "id": "090bafb3",
   "metadata": {},
   "source": [
    "#hello"
   ]
  },
  {
   "cell_type": "markdown",
   "id": "b6f305cd",
   "metadata": {},
   "source": [
    "# hello"
   ]
  },
  {
   "cell_type": "markdown",
   "id": "1f3329ba",
   "metadata": {},
   "source": [
    "'''python\n",
    "print('hello world')\n",
    "'''"
   ]
  },
  {
   "cell_type": "markdown",
   "id": "0a71f1c8",
   "metadata": {},
   "source": [
    "```python\n",
    "print('hello world')\n",
    "```"
   ]
  },
  {
   "cell_type": "markdown",
   "id": "2e9c3d46",
   "metadata": {},
   "source": [
    "[spewifeiwugbtiwb website](https://sps.nus.edu.sg/sp2273/using-jupyter-need.html)"
   ]
  },
  {
   "cell_type": "markdown",
   "id": "9ebaa465",
   "metadata": {},
   "source": [
    "![](https://nus.edu.sg/images/default-source/base/logo.png)"
   ]
  },
  {
   "cell_type": "markdown",
   "id": "ce737587",
   "metadata": {},
   "source": [
    "| A    |  B   |    C |\n",
    "| --- | :--: | --- |\n",
    "| a1   |  b1  |   c1 |\n",
    "| a2   |  b2  |   c2 |\n",
    "| a3   |  b3  |   c3 |"
   ]
  },
  {
   "cell_type": "markdown",
   "id": "7c51ac60",
   "metadata": {},
   "source": [
    "| A    |  B   |    C |\n",
    "| :--- | :--: | ---: |\n",
    "| a1   |  b1  |   c1 |\n",
    "| a2   |  b2  |   c2 |\n",
    "| a3   |  b3  |   c3 |"
   ]
  },
  {
   "cell_type": "markdown",
   "id": "8b13cef1",
   "metadata": {},
   "source": [
    "$$\n",
    "x = \\frac{-b \\pm \\sqrt{b^2-4ac}}{2a}\n",
    "$$"
   ]
  },
  {
   "cell_type": "markdown",
   "id": "dca53a6c",
   "metadata": {},
   "source": [
    "#### Quadratic Equations\n",
    "\n",
    "![](https://upload.wikimedia.org/wikipedia/commons/thumb/f/f8/Polynomialdeg2.svg/600px-Polynomialdeg2.svg.png)\n",
    "(*Image from the [Wikipedia page on Quadratic Equations](https://en.wikipedia.org/wiki/Quadratic_equation)*)\n",
    "\n",
    "#### Introduction\n",
    "\n",
    "The general form of a quadratic equation is:\n",
    "$$\n",
    "ax^2+bx+c=0\n",
    "$$\n",
    "\n",
    "**Solutions** Provided $a\\neq0$, we can use an elementary algebraic method called [completeing the square](https://en.wikipedia.org/wiki/Completing_the_square) to show that a quadratic equation has the following solution:\n",
    "$$\n",
    "x = \\frac{-b \\pm \\sqrt{b^2-4ac}}{2a}\n",
    "$$\n",
    "\n",
    "#### Discriminant\n",
    "\n",
    "The quantity $\\delta=b^2-4ac$ is called the **discriminant** of the equation and decides the nature of its solutions. The table below shows the various possibilities.\n",
    "\n",
    "| Discriminant         |        Roots                           |\n",
    "|         ---          |                 ---                    |\n",
    "| $\\delta=b^2-4ac$=0   | A single solution of $-b/(2a)$         |\n",
    "| $\\delta=b^2-4ac$>0   | Two distinct solutions                 |\n",
    "| $\\delta=b^2-4ac$<0   |  No real solutions; both are complex.  |"
   ]
  },
  {
   "cell_type": "markdown",
   "id": "bdafcef7",
   "metadata": {},
   "source": [
    "1. What is a **repository**?\n",
    "A repository is a shareable folder containing the project files added and a log of all the changes made to those projects.\n",
    "2. Git keep tracks of **changes** in the files in our repository.\n",
    "3. What is a **commit**?\n",
    "A commit determines which specific changes to a file GitHub tracks.\n",
    "4. What is a **push**?\n",
    "A push uploads the changes recorded in GitHub on your desktop onto the GitHub server.\n",
    "5. What is the difference between **GitHub** and **GitHub Desktop**?\n",
    "GitHub is on the server, while GitHub Desktop is local to the computer used.\n",
    "6. Is there an ‘opposite’ to a **push**?\n",
    "fetch"
   ]
  },
  {
   "cell_type": "code",
   "execution_count": 4,
   "id": "84f925f0",
   "metadata": {},
   "outputs": [
    {
     "name": "stdout",
     "output_type": "stream",
     "text": [
      "/Users/kai2/Documents/GitHub/learning-portfolio-lee-rui-kai/testing\r\n"
     ]
    }
   ],
   "source": [
    "!pwd"
   ]
  },
  {
   "cell_type": "code",
   "execution_count": 5,
   "id": "b755c2eb",
   "metadata": {},
   "outputs": [
    {
     "name": "stdout",
     "output_type": "stream",
     "text": [
      "Using Jupyter (Need).ipynb hello.rtf\r\n"
     ]
    }
   ],
   "source": [
    "!ls"
   ]
  },
  {
   "cell_type": "code",
   "execution_count": null,
   "id": "af6aa55f",
   "metadata": {},
   "outputs": [],
   "source": [
    "!conda install -c conda-forge jupyter_contrib_nbextensions"
   ]
  },
  {
   "cell_type": "code",
   "execution_count": null,
   "id": "a2185a06",
   "metadata": {},
   "outputs": [],
   "source": []
  },
  {
   "cell_type": "code",
   "execution_count": null,
   "id": "62ca61d1",
   "metadata": {},
   "outputs": [],
   "source": []
  }
 ],
 "metadata": {
  "kernelspec": {
   "display_name": "Python 3 (ipykernel)",
   "language": "python",
   "name": "python3"
  },
  "language_info": {
   "codemirror_mode": {
    "name": "ipython",
    "version": 3
   },
   "file_extension": ".py",
   "mimetype": "text/x-python",
   "name": "python",
   "nbconvert_exporter": "python",
   "pygments_lexer": "ipython3",
   "version": "3.10.8"
  }
 },
 "nbformat": 4,
 "nbformat_minor": 5
}
