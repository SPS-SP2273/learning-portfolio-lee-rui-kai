{
 "cells": [
  {
   "cell_type": "code",
   "execution_count": 6,
   "id": "3e34699c",
   "metadata": {},
   "outputs": [
    {
     "name": "stdout",
     "output_type": "stream",
     "text": [
      "Collecting package metadata (current_repodata.json): done\n",
      "Solving environment: done\n",
      "\n",
      "# All requested packages already installed.\n",
      "\n"
     ]
    }
   ],
   "source": [
    "!conda install Autopep8 -y"
   ]
  },
  {
   "cell_type": "code",
   "execution_count": 7,
   "id": "d6fd41b5",
   "metadata": {},
   "outputs": [
    {
     "name": "stdout",
     "output_type": "stream",
     "text": [
      "21.9 ns ± 1.34 ns per loop (mean ± std. dev. of 7 runs, 10,000,000 loops each)\n"
     ]
    }
   ],
   "source": [
    "%timeit x=10"
   ]
  },
  {
   "cell_type": "code",
   "execution_count": 8,
   "id": "2249a70c",
   "metadata": {},
   "outputs": [],
   "source": [
    "name = 'batman'"
   ]
  },
  {
   "cell_type": "code",
   "execution_count": 11,
   "id": "10e86e49",
   "metadata": {},
   "outputs": [
    {
     "name": "stdout",
     "output_type": "stream",
     "text": [
      "hello world|batman\n"
     ]
    }
   ],
   "source": [
    "if name == 'batman':\n",
    "    print('hello world|batman')\n",
    "else:\n",
    "    print('no')"
   ]
  },
  {
   "cell_type": "code",
   "execution_count": 12,
   "id": "7a85a160",
   "metadata": {},
   "outputs": [
    {
     "name": "stdout",
     "output_type": "stream",
     "text": [
      "you're 20 yrs old\n"
     ]
    }
   ],
   "source": [
    "print('you\\'re 20 yrs old')"
   ]
  },
  {
   "cell_type": "code",
   "execution_count": 13,
   "id": "c319baa6",
   "metadata": {},
   "outputs": [
    {
     "name": "stdout",
     "output_type": "stream",
     "text": [
      "A\n",
      "B\n"
     ]
    }
   ],
   "source": [
    "print('A\\nB')"
   ]
  },
  {
   "cell_type": "code",
   "execution_count": 14,
   "id": "1bd9e3a4",
   "metadata": {},
   "outputs": [
    {
     "name": "stdout",
     "output_type": "stream",
     "text": [
      "A\tB\n"
     ]
    }
   ],
   "source": [
    "print('A\\tB')"
   ]
  },
  {
   "cell_type": "code",
   "execution_count": 16,
   "id": "d5985063",
   "metadata": {},
   "outputs": [
    {
     "name": "stdout",
     "output_type": "stream",
     "text": [
      "A\u000b",
      "B\n"
     ]
    }
   ],
   "source": [
    "print('A\\vB')"
   ]
  },
  {
   "cell_type": "code",
   "execution_count": 17,
   "id": "73a3606c",
   "metadata": {},
   "outputs": [],
   "source": [
    "py_list = [1, 2, 3, 4, 5]   # A 1D list\n",
    "\n",
    "py_list_2 = [[1, \"A\"],      # A 2D list\n",
    "             [2, \"B\"],\n",
    "             [3, \"C\"],\n",
    "             [4, \"D\"],\n",
    "             [5, \"E\"]]"
   ]
  },
  {
   "cell_type": "code",
   "execution_count": 20,
   "id": "785498bb",
   "metadata": {},
   "outputs": [],
   "source": [
    "personal_info={\n",
    "    'name':'batman',\n",
    "    'real name':'not batman',\n",
    "    'aaaaaaaaaaaaaaaah':'ooooooooooooooo'\n",
    "}"
   ]
  },
  {
   "cell_type": "code",
   "execution_count": 21,
   "id": "1026afc1",
   "metadata": {},
   "outputs": [
    {
     "name": "stdout",
     "output_type": "stream",
     "text": [
      "not batman\n"
     ]
    }
   ],
   "source": [
    "print(personal_info['real name'])    "
   ]
  },
  {
   "cell_type": "code",
   "execution_count": 26,
   "id": "65668b5e",
   "metadata": {},
   "outputs": [],
   "source": [
    "import math"
   ]
  },
  {
   "cell_type": "code",
   "execution_count": 28,
   "id": "0f93d3fa",
   "metadata": {},
   "outputs": [
    {
     "data": {
      "text/plain": [
       "2.0"
      ]
     },
     "execution_count": 28,
     "metadata": {},
     "output_type": "execute_result"
    }
   ],
   "source": [
    "math.sqrt(4)"
   ]
  },
  {
   "cell_type": "code",
   "execution_count": 29,
   "id": "b9dcd0e1",
   "metadata": {},
   "outputs": [],
   "source": [
    "import numpy as np"
   ]
  },
  {
   "cell_type": "code",
   "execution_count": 30,
   "id": "59e056ce",
   "metadata": {},
   "outputs": [
    {
     "data": {
      "text/plain": [
       "array([2.0000000e+00, 4.0000000e+00, 3.1622775e+03])"
      ]
     },
     "execution_count": 30,
     "metadata": {},
     "output_type": "execute_result"
    }
   ],
   "source": [
    "np.sqrt([4,16,9999999])"
   ]
  },
  {
   "cell_type": "markdown",
   "id": "17b1f9a1",
   "metadata": {},
   "source": [
    "## Exercise 1\n",
    "\n",
    "1. Purely from memory, list as many of the basic Python features I mentioned above. List these out using a Markdown cell.\n",
    "\n",
    "Import\n",
    "\n",
    "Print\n",
    "\n",
    "List\n",
    "\n",
    "Dictionary\n",
    "\n",
    "Math\n",
    "\n",
    "Conditions (if/else)\n",
    "\n",
    "2. Now, scroll up and complete the list with the ones you missed. Indicate those you missed by putting them in italics.\n",
    "\n",
    "*comments*\n",
    "\n",
    "*check if equal (==)*\n",
    "\n",
    "*set as equal (=)*\n",
    "\n",
    "*escape sequences*"
   ]
  },
  {
   "cell_type": "code",
   "execution_count": 51,
   "id": "54686253",
   "metadata": {},
   "outputs": [
    {
     "name": "stdout",
     "output_type": "stream",
     "text": [
      "3 4 5.0\n"
     ]
    }
   ],
   "source": [
    "#Exercise 2\n",
    "x, y = 3, 4\n",
    "z = np.sqrt(x**2 + y**2)\n",
    "print(x, y, z)"
   ]
  },
  {
   "cell_type": "markdown",
   "id": "316cea0a",
   "metadata": {},
   "source": [
    "Exercise 3\n",
    "\n",
    "|  #  |  Term  |  Description  |\n",
    "| --- | --- | --- |\n",
    "|  1  | Function | A function produces an output given a certain input |\n",
    "|  2  | Arguments | Arguments are inputs entered into functions |\n",
    "|  3  | Comments | Comments are lines of notes which are not code |\n",
    "|  4  | Indentations | Indentations separate inner blocks of code |\n",
    "|  5  | Packages | Packages contain functions not initially in python, allowing a wider range of functions to be used. |\n",
    "|  6  | . | The dot indicates which package you want to use a function from, or what you want to apply a function to. |"
   ]
  },
  {
   "cell_type": "code",
   "execution_count": 36,
   "id": "c83388fd",
   "metadata": {},
   "outputs": [
    {
     "data": {
      "text/plain": [
       "2.5"
      ]
     },
     "execution_count": 36,
     "metadata": {},
     "output_type": "execute_result"
    }
   ],
   "source": [
    "5/2"
   ]
  },
  {
   "cell_type": "code",
   "execution_count": 37,
   "id": "d8a9a7c4",
   "metadata": {},
   "outputs": [
    {
     "data": {
      "text/plain": [
       "2"
      ]
     },
     "execution_count": 37,
     "metadata": {},
     "output_type": "execute_result"
    }
   ],
   "source": [
    "5//2"
   ]
  },
  {
   "cell_type": "code",
   "execution_count": 38,
   "id": "fd8a6766",
   "metadata": {},
   "outputs": [
    {
     "data": {
      "text/plain": [
       "2"
      ]
     },
     "execution_count": 38,
     "metadata": {},
     "output_type": "execute_result"
    }
   ],
   "source": [
    "4//2"
   ]
  },
  {
   "cell_type": "code",
   "execution_count": 39,
   "id": "1be44d4a",
   "metadata": {},
   "outputs": [
    {
     "data": {
      "text/plain": [
       "65"
      ]
     },
     "execution_count": 39,
     "metadata": {},
     "output_type": "execute_result"
    }
   ],
   "source": [
    "130//2"
   ]
  },
  {
   "cell_type": "code",
   "execution_count": 40,
   "id": "8bc434ca",
   "metadata": {},
   "outputs": [
    {
     "data": {
      "text/plain": [
       "65"
      ]
     },
     "execution_count": 40,
     "metadata": {},
     "output_type": "execute_result"
    }
   ],
   "source": [
    "131//2"
   ]
  },
  {
   "cell_type": "code",
   "execution_count": 41,
   "id": "efe0a15b",
   "metadata": {},
   "outputs": [
    {
     "data": {
      "text/plain": [
       "65.0"
      ]
     },
     "execution_count": 41,
     "metadata": {},
     "output_type": "execute_result"
    }
   ],
   "source": [
    "130.5//2"
   ]
  },
  {
   "cell_type": "code",
   "execution_count": 49,
   "id": "fa93a206",
   "metadata": {},
   "outputs": [
    {
     "data": {
      "text/plain": [
       "1.1415926535897931"
      ]
     },
     "execution_count": 49,
     "metadata": {},
     "output_type": "execute_result"
    }
   ],
   "source": [
    "np.pi%2"
   ]
  },
  {
   "cell_type": "code",
   "execution_count": 43,
   "id": "19d961cf",
   "metadata": {},
   "outputs": [
    {
     "data": {
      "text/plain": [
       "1"
      ]
     },
     "execution_count": 43,
     "metadata": {},
     "output_type": "execute_result"
    }
   ],
   "source": [
    "5%2"
   ]
  },
  {
   "cell_type": "code",
   "execution_count": 44,
   "id": "978510b9",
   "metadata": {},
   "outputs": [
    {
     "data": {
      "text/plain": [
       "1"
      ]
     },
     "execution_count": 44,
     "metadata": {},
     "output_type": "execute_result"
    }
   ],
   "source": [
    "131%2"
   ]
  },
  {
   "cell_type": "code",
   "execution_count": 45,
   "id": "bafec046",
   "metadata": {},
   "outputs": [
    {
     "data": {
      "text/plain": [
       "2"
      ]
     },
     "execution_count": 45,
     "metadata": {},
     "output_type": "execute_result"
    }
   ],
   "source": [
    "131%3"
   ]
  },
  {
   "cell_type": "code",
   "execution_count": 46,
   "id": "31e7035b",
   "metadata": {},
   "outputs": [
    {
     "data": {
      "text/plain": [
       "4"
      ]
     },
     "execution_count": 46,
     "metadata": {},
     "output_type": "execute_result"
    }
   ],
   "source": [
    "9%5"
   ]
  },
  {
   "cell_type": "code",
   "execution_count": 47,
   "id": "bcbfda79",
   "metadata": {},
   "outputs": [
    {
     "data": {
      "text/plain": [
       "2"
      ]
     },
     "execution_count": 47,
     "metadata": {},
     "output_type": "execute_result"
    }
   ],
   "source": [
    "10%8"
   ]
  },
  {
   "cell_type": "code",
   "execution_count": 50,
   "id": "b6ccc587",
   "metadata": {},
   "outputs": [
    {
     "data": {
      "text/plain": [
       "1"
      ]
     },
     "execution_count": 50,
     "metadata": {},
     "output_type": "execute_result"
    }
   ],
   "source": [
    "#Exercise 4\n",
    "5/2 # divides numerator by denominator\n",
    "5//2 # divides numerator by denominator and rounds down to closest integer\n",
    "5%2 #takes remainder of numerator divided by denominator"
   ]
  },
  {
   "cell_type": "code",
   "execution_count": null,
   "id": "9c9ef804",
   "metadata": {},
   "outputs": [],
   "source": []
  }
 ],
 "metadata": {
  "kernelspec": {
   "display_name": "Python 3 (ipykernel)",
   "language": "python",
   "name": "python3"
  },
  "language_info": {
   "codemirror_mode": {
    "name": "ipython",
    "version": 3
   },
   "file_extension": ".py",
   "mimetype": "text/x-python",
   "name": "python",
   "nbconvert_exporter": "python",
   "pygments_lexer": "ipython3",
   "version": "3.10.8"
  },
  "toc": {
   "base_numbering": 1,
   "nav_menu": {},
   "number_sections": true,
   "sideBar": true,
   "skip_h1_title": false,
   "title_cell": "Table of Contents",
   "title_sidebar": "Contents",
   "toc_cell": false,
   "toc_position": {},
   "toc_section_display": true,
   "toc_window_display": false
  },
  "varInspector": {
   "cols": {
    "lenName": 16,
    "lenType": 16,
    "lenVar": 40
   },
   "kernels_config": {
    "python": {
     "delete_cmd_postfix": "",
     "delete_cmd_prefix": "del ",
     "library": "var_list.py",
     "varRefreshCmd": "print(var_dic_list())"
    },
    "r": {
     "delete_cmd_postfix": ") ",
     "delete_cmd_prefix": "rm(",
     "library": "var_list.r",
     "varRefreshCmd": "cat(var_dic_list()) "
    }
   },
   "types_to_exclude": [
    "module",
    "function",
    "builtin_function_or_method",
    "instance",
    "_Feature"
   ],
   "window_display": false
  }
 },
 "nbformat": 4,
 "nbformat_minor": 5
}
